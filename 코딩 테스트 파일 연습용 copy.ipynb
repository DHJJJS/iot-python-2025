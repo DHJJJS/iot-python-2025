{
 "cells": [
  {
   "cell_type": "markdown",
   "metadata": {},
   "source": [
    "### 1"
   ]
  },
  {
   "cell_type": "code",
   "execution_count": 10,
   "metadata": {},
   "outputs": [],
   "source": [
    "\n",
    "from math import *\n",
    "from tkinter import *\n",
    "from tkinter.messagebox import *\n",
    "import tkinter as tk\n",
    "\n",
    "# 시작\n",
    "class Window(Tk):\n",
    "    def __init__(self):\n",
    "        super().__init__()  \n",
    "        self.title('원의 넓이와 둘레 구하기')  \n",
    "        self.geometry('500x400')  \n",
    "\n",
    "        self.initWindow()\n",
    "\n",
    "\n",
    "# 엔트리\n",
    "    def initWindow(self):\n",
    "        self.label = tk.Label(self, text= \"반지름을 입력하세요.\")\n",
    "        self.label.pack(pady=10, side=\"top\")\n",
    "        \n",
    "        self.radius_entry = tk.Entry(self)\n",
    "        self.radius_entry.pack(pady=5)\n",
    "\n",
    "#버튼   \n",
    "        btn1 = tk.Button(self, text= \"계산\", width=10, command=self.calculate_area)\n",
    "        btn1.pack(pady=10, padx=10)\n",
    "\n",
    "        btn2 = tk.Button(self, text= \"초기화\", width=10, command= self.Initialize)\n",
    "        btn2.pack(pady=10, padx=10)\n",
    "\n",
    "        self.result_label = tk.Label(self, text=\"초기화 하려면 초기화 버튼을 누르세요.\")\n",
    "        self.result_label.pack(pady=5)\n",
    "\n",
    "    def calculate_area(self):\n",
    "        π = 3.141592\n",
    "        try:\n",
    "            Radius = float(self.radius_entry.get())  # 숫자로 변환\n",
    "        except:\n",
    "            self.result_label.config(text=\"숫자를 입력하세요.\")  # 변환 실패 시 메시지 출력\n",
    "            return\n",
    "\n",
    "        if Radius <= 0:\n",
    "            self.result_label.config(text=\"양수를 입력하세요!\")  # 음수 입력 방지\n",
    "            return\n",
    "\n",
    "        area = (pow(Radius, 2) * π)                                     \n",
    "        \n",
    "        perimeter = (2 * Radius * π)\n",
    "        self.result_label.config(text=f\"원의 넓이: {area:.2f}, 둘레: {perimeter:.2f}\")\n",
    "\n",
    "\n",
    "    def Initialize(self):\n",
    "            self.radius_entry.delete(0, tk.END)\n",
    "            self.result_label.config(text=\"\")\n",
    "        \n",
    "if __name__ == \"__main__\":\n",
    "    app = Window()\n",
    "    app.mainloop()\n",
    "\n"
   ]
  },
  {
   "cell_type": "markdown",
   "metadata": {},
   "source": [
    "### 2"
   ]
  },
  {
   "cell_type": "code",
   "execution_count": null,
   "metadata": {},
   "outputs": [
    {
     "name": "stdout",
     "output_type": "stream",
     "text": [
      "https://www.True.com\n"
     ]
    }
   ],
   "source": [
    "\n",
    "def get_url(name):\n",
    "    return f'https://www.{name}.com'\n",
    "\n",
    "\n",
    "url = get_url(input(f'영문 이름을 입력하세요'))\n",
    "print(url)"
   ]
  },
  {
   "cell_type": "markdown",
   "metadata": {},
   "source": [
    "### 3"
   ]
  },
  {
   "cell_type": "code",
   "execution_count": null,
   "metadata": {},
   "outputs": [],
   "source": [
    "from math import *\n",
    "from tkinter import *\n",
    "from tkinter.messagebox import *\n",
    "import tkinter as tk\n",
    "\n",
    "\n",
    "class Window(Tk):\n",
    "    def __init__(self):\n",
    "        super().__init__()  \n",
    "        self.title('구구단 구하기')  \n",
    "        self.geometry('500x400')  \n",
    "\n",
    "        self.initWindow()\n",
    "\n",
    "    def initWindow(self):\n",
    "        self.label = tk.Label(self, text= \"숫자를 입력하세요.\")\n",
    "        self.label.pack(pady=10, side=\"top\")\n",
    "        \n",
    "        self.radius_entry = tk.Entry(self)\n",
    "        self.radius_entry.pack(pady=5)\n",
    "\n",
    "        btn1 = tk.Button(self, text= \"계산\", width=10, command= self.Multiplying)\n",
    "        btn1.pack(pady=10, padx=10)\n",
    "\n",
    "        self.result_text = tk.Label(self, text=\"\")\n",
    "        self.result_text.pack(pady=5)\n",
    "        \n",
    "    def Multiplying(self):\n",
    "        try:\n",
    "            num = int(self.radius_entry.get())\n",
    "            result = \"\" \n",
    "\n",
    "            for y in range(1, 10):  \n",
    "                result += f\"{num} x {y} = {num * y}\\n\" \n",
    "\n",
    "            self.result_text.config(text=result)  \n",
    "\n",
    "        except ValueError:  \n",
    "            self.result_text.config(text=\"올바른 숫자를 입력하세요.\")  \n",
    "\n",
    "if __name__ == \"__main__\":\n",
    "    app = Window()\n",
    "    app.mainloop()"
   ]
  },
  {
   "cell_type": "markdown",
   "metadata": {},
   "source": [
    "### 4"
   ]
  },
  {
   "cell_type": "code",
   "execution_count": 3,
   "metadata": {},
   "outputs": [],
   "source": [
    "from math import *\n",
    "from tkinter import *\n",
    "from tkinter.messagebox import *\n",
    "import tkinter as tk\n",
    "\n",
    "\n",
    "class Window(Tk):\n",
    "    def __init__(self):\n",
    "        super().__init__()  \n",
    "        self.title('출력 리버스 프로그램')  \n",
    "        self.geometry('500x400')  \n",
    "\n",
    "        self.initWindow()\n",
    "\n",
    "    def initWindow(self):\n",
    "        self.label = tk.Label(self, text= \"숫자를 공백을 두고 입력하세요.\")\n",
    "        self.label.pack(pady=10, side=\"top\")\n",
    "        \n",
    "        self.radius_entry = tk.Entry(self)\n",
    "        self.radius_entry.pack(pady=5)\n",
    "\n",
    "        btn1 = tk.Button(self, text= \"출력\", width=10, command= self.Reverse)\n",
    "        btn1.pack(pady=10, padx=10)\n",
    "\n",
    "        self.result_text = tk.Label(self, text=\"\")\n",
    "        self.result_text.pack(pady=5)\n",
    "        \n",
    "    def Reverse(self):\n",
    "        try:\n",
    "            num_list = list(map(int, self.radius_entry.get().split()))\n",
    "            \n",
    "            reversed_list = num_list[::-1]\n",
    "\n",
    "            self.result_text.config(text=\" \".join(map(str, reversed_list)))\n",
    "\n",
    "        except ValueError:  \n",
    "            self.result_text.config(text=\"올바른 숫자를 입력하세요.\")  \n",
    "\n",
    "if __name__ == \"__main__\":\n",
    "    app = Window()\n",
    "    app.mainloop() "
   ]
  },
  {
   "cell_type": "markdown",
   "metadata": {},
   "source": [
    "### 5"
   ]
  },
  {
   "cell_type": "code",
   "execution_count": null,
   "metadata": {},
   "outputs": [],
   "source": [
    "class SmartPhone:\n",
    "\n",
    "    def __init__(self, Owner, number, company)\n",
    "        self.Owner = Owner\n",
    "        self.number = number\n",
    "        self.company = company\n",
    "\n",
    "    def __str__(self):\n",
    "        retstr = f'{self.Owner}\\n{self.number}\\n{self.company}'\n",
    "        return retstr"
   ]
  }
 ],
 "metadata": {
  "kernelspec": {
   "display_name": "3.11.9",
   "language": "python",
   "name": "python3"
  },
  "language_info": {
   "codemirror_mode": {
    "name": "ipython",
    "version": 3
   },
   "file_extension": ".py",
   "mimetype": "text/x-python",
   "name": "python",
   "nbconvert_exporter": "python",
   "pygments_lexer": "ipython3",
   "version": "3.11.9"
  }
 },
 "nbformat": 4,
 "nbformat_minor": 2
}
